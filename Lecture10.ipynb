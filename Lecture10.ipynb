{
  "cells": [
    {
      "cell_type": "markdown",
      "metadata": {
        "id": "view-in-github",
        "colab_type": "text"
      },
      "source": [
        "<a href=\"https://colab.research.google.com/github/munsaf227/codespaces-jupyter/blob/main/Lecture10.ipynb\" target=\"_parent\"><img src=\"https://colab.research.google.com/assets/colab-badge.svg\" alt=\"Open In Colab\"/></a>"
      ]
    },
    {
      "cell_type": "code",
      "execution_count": null,
      "metadata": {
        "id": "br1SGKofX5C8"
      },
      "outputs": [],
      "source": [
        "import numpy as np\n",
        "import pandas as pd\n",
        "from matplotlib import pyplot as plt"
      ]
    },
    {
      "cell_type": "code",
      "execution_count": null,
      "metadata": {
        "colab": {
          "base_uri": "https://localhost:8080/"
        },
        "id": "VzkPurZwYL8f",
        "outputId": "1466dc10-5e2a-443a-c9ad-49e7b390cdc1"
      },
      "outputs": [
        {
          "data": {
            "text/plain": [
              "array(['goat', 'junk', 'car'], dtype='<U4')"
            ]
          },
          "execution_count": 2,
          "metadata": {},
          "output_type": "execute_result"
        }
      ],
      "source": [
        "doors = np.array(('goat','junk', 'car'))\n",
        "doors"
      ]
    },
    {
      "cell_type": "code",
      "execution_count": null,
      "metadata": {
        "colab": {
          "base_uri": "https://localhost:8080/"
        },
        "id": "dPbVIt7XYL4V",
        "outputId": "68e45cc4-313f-4f9c-b647-1c34a7de6cbb"
      },
      "outputs": [
        {
          "data": {
            "text/plain": [
              "6"
            ]
          },
          "execution_count": 7,
          "metadata": {},
          "output_type": "execute_result"
        }
      ],
      "source": [
        "np.random.seed(42)\n",
        "np.random.randint(7)"
      ]
    },
    {
      "cell_type": "code",
      "execution_count": null,
      "metadata": {
        "colab": {
          "base_uri": "https://localhost:8080/"
        },
        "id": "lcK19LJSYL0a",
        "outputId": "e6257e46-5323-4a27-bc7c-cf73484a959b"
      },
      "outputs": [
        {
          "data": {
            "text/plain": [
              "array(['junk', 'car', 'goat'], dtype='<U4')"
            ]
          },
          "execution_count": 8,
          "metadata": {},
          "output_type": "execute_result"
        }
      ],
      "source": [
        "shuff_doors = np.random.permutation(doors)\n",
        "shuff_doors"
      ]
    },
    {
      "cell_type": "code",
      "execution_count": null,
      "metadata": {
        "colab": {
          "base_uri": "https://localhost:8080/"
        },
        "id": "SYzGF2eTYLvn",
        "outputId": "21e0f268-3a53-43cf-9fda-6995ba6dd941"
      },
      "outputs": [
        {
          "data": {
            "text/plain": [
              "array(['goat', 'junk', 'car'], dtype='<U4')"
            ]
          },
          "execution_count": 9,
          "metadata": {},
          "output_type": "execute_result"
        }
      ],
      "source": [
        "shuff_doors = np.random.permutation(doors)\n",
        "shuff_doors"
      ]
    },
    {
      "cell_type": "code",
      "execution_count": null,
      "metadata": {
        "colab": {
          "base_uri": "https://localhost:8080/",
          "height": 35
        },
        "id": "vsl1w1qsZQgy",
        "outputId": "0482c2d7-b56d-4f70-ea26-2052566c03f7"
      },
      "outputs": [
        {
          "data": {
            "application/vnd.google.colaboratory.intrinsic+json": {
              "type": "string"
            },
            "text/plain": [
              "'goat'"
            ]
          },
          "execution_count": 11,
          "metadata": {},
          "output_type": "execute_result"
        }
      ],
      "source": [
        "contestant_choice = np.random.choice(shuff_doors)\n",
        "contestant_choice"
      ]
    },
    {
      "cell_type": "code",
      "execution_count": null,
      "metadata": {
        "colab": {
          "base_uri": "https://localhost:8080/",
          "height": 35
        },
        "id": "_GtXOlcvZQeG",
        "outputId": "19b2f059-0ec8-4376-ce8d-98ed86627105"
      },
      "outputs": [
        {
          "data": {
            "application/vnd.google.colaboratory.intrinsic+json": {
              "type": "string"
            },
            "text/plain": [
              "'goat'"
            ]
          },
          "execution_count": 12,
          "metadata": {},
          "output_type": "execute_result"
        }
      ],
      "source": [
        "contestant_choice"
      ]
    },
    {
      "cell_type": "code",
      "execution_count": null,
      "metadata": {
        "colab": {
          "base_uri": "https://localhost:8080/",
          "height": 35
        },
        "id": "zKx-xEDrZQbO",
        "outputId": "94c2a439-1b46-4349-df08-0d1f2a3c3eb5"
      },
      "outputs": [
        {
          "data": {
            "application/vnd.google.colaboratory.intrinsic+json": {
              "type": "string"
            },
            "text/plain": [
              "'goat'"
            ]
          },
          "execution_count": 13,
          "metadata": {},
          "output_type": "execute_result"
        }
      ],
      "source": [
        "contestant_choice"
      ]
    },
    {
      "cell_type": "code",
      "execution_count": null,
      "metadata": {
        "colab": {
          "base_uri": "https://localhost:8080/",
          "height": 35
        },
        "id": "6IIrAjZoZQYb",
        "outputId": "4d3178f1-c453-4661-b0de-270cd22882cf"
      },
      "outputs": [
        {
          "data": {
            "application/vnd.google.colaboratory.intrinsic+json": {
              "type": "string"
            },
            "text/plain": [
              "'goat'"
            ]
          },
          "execution_count": 14,
          "metadata": {},
          "output_type": "execute_result"
        }
      ],
      "source": [
        "contestant_choice"
      ]
    },
    {
      "cell_type": "code",
      "execution_count": null,
      "metadata": {
        "colab": {
          "base_uri": "https://localhost:8080/",
          "height": 35
        },
        "id": "ez4ANI5iZQVm",
        "outputId": "70aa9a6c-84de-4dc7-9926-551d7f798a46"
      },
      "outputs": [
        {
          "data": {
            "application/vnd.google.colaboratory.intrinsic+json": {
              "type": "string"
            },
            "text/plain": [
              "'goat'"
            ]
          },
          "execution_count": 15,
          "metadata": {},
          "output_type": "execute_result"
        }
      ],
      "source": [
        "contestant_choice"
      ]
    },
    {
      "cell_type": "code",
      "execution_count": null,
      "metadata": {
        "colab": {
          "base_uri": "https://localhost:8080/",
          "height": 35
        },
        "id": "UptPDCd0ZQSw",
        "outputId": "6c71891d-8b0c-4bd9-833a-722f8cf4fae8"
      },
      "outputs": [
        {
          "data": {
            "application/vnd.google.colaboratory.intrinsic+json": {
              "type": "string"
            },
            "text/plain": [
              "'car'"
            ]
          },
          "execution_count": 34,
          "metadata": {},
          "output_type": "execute_result"
        }
      ],
      "source": [
        "contestant_choice = np.random.choice(shuff_doors)\n",
        "contestant_choice"
      ]
    },
    {
      "cell_type": "code",
      "execution_count": null,
      "metadata": {
        "colab": {
          "base_uri": "https://localhost:8080/"
        },
        "id": "qIlU8qhHZQKK",
        "outputId": "9e8af43b-119c-47e7-8bcf-8e2f903c8930"
      },
      "outputs": [
        {
          "data": {
            "text/plain": [
              "['goat', 'junk']"
            ]
          },
          "execution_count": 35,
          "metadata": {},
          "output_type": "execute_result"
        }
      ],
      "source": [
        "remaining_doors = [door for door in list(shuff_doors) if door != contestant_choice]\n",
        "remaining_doors"
      ]
    },
    {
      "cell_type": "code",
      "execution_count": null,
      "metadata": {
        "colab": {
          "base_uri": "https://localhost:8080/"
        },
        "id": "QlRPheIAZQHB",
        "outputId": "f01c97c7-612b-4713-8acb-fa2aa3ce127c"
      },
      "outputs": [
        {
          "data": {
            "text/plain": [
              "['goat', 'junk']"
            ]
          },
          "execution_count": 36,
          "metadata": {},
          "output_type": "execute_result"
        }
      ],
      "source": [
        "revealed_doors = [door for door in list(remaining_doors) if door != 'car']\n",
        "revealed_doors"
      ]
    },
    {
      "cell_type": "code",
      "execution_count": null,
      "metadata": {
        "colab": {
          "background_save": true
        },
        "id": "YO2J4U3vZQES"
      },
      "outputs": [],
      "source": [
        "def contestant_choices(doors, seed=None):\n",
        "  if seed:\n",
        "    np.random.seed(seed)\n",
        "  return np.random.choice(doors)"
      ]
    },
    {
      "cell_type": "code",
      "execution_count": null,
      "metadata": {
        "colab": {
          "base_uri": "https://localhost:8080/",
          "height": 35
        },
        "id": "tfOab0iaZQBG",
        "outputId": "523c8065-97e0-409a-ccd8-3d173a34963c"
      },
      "outputs": [
        {
          "data": {
            "application/vnd.google.colaboratory.intrinsic+json": {
              "type": "string"
            },
            "text/plain": [
              "'goat'"
            ]
          },
          "execution_count": 61,
          "metadata": {},
          "output_type": "execute_result"
        }
      ],
      "source": [
        "contestant_choice = contestant_choices(shuff_doors)\n",
        "contestant_choice"
      ]
    },
    {
      "cell_type": "code",
      "execution_count": null,
      "metadata": {
        "id": "-ZsaV_jjZP-D"
      },
      "outputs": [],
      "source": [
        "def mb_reveals(doors, contestant_choice):\n",
        "  doors = list(doors)\n",
        "  remaining_doors = [door for door in list(shuff_doors) if door != contestant_choice]\n",
        "  revealed_doors = [door for door in list(remaining_doors) if door != 'car']\n",
        "  return revealed_doors[0]"
      ]
    },
    {
      "cell_type": "code",
      "execution_count": null,
      "metadata": {
        "colab": {
          "base_uri": "https://localhost:8080/",
          "height": 35
        },
        "id": "w76zMWHvZP7E",
        "outputId": "658d7094-6b89-4069-be60-f7aa0c1c260d"
      },
      "outputs": [
        {
          "data": {
            "application/vnd.google.colaboratory.intrinsic+json": {
              "type": "string"
            },
            "text/plain": [
              "'junk'"
            ]
          },
          "execution_count": 62,
          "metadata": {},
          "output_type": "execute_result"
        }
      ],
      "source": [
        "mb_reveals(shuff_doors, contestant_choice)"
      ]
    },
    {
      "cell_type": "code",
      "execution_count": null,
      "metadata": {
        "id": "YO4vFkNecZgT"
      },
      "outputs": [],
      "source": [
        "def mb_simulation_one_time(seed=None):\n",
        "  if seed:\n",
        "    np.random.seed(seed)\n",
        "  doors = np.random.permutation(np.array(['goat','junk', 'car']))\n",
        "  contestant_choice = contestant_choices(doors)\n",
        "  revealed_door = mb_reveals(doors, contestant_choice)\n",
        "  last_door = [door for door in doors if door not in [contestant_choice,\n",
        "                                                        revealed_door]]\n",
        "  return contestant_choice, revealed_door, last_door(0)"
      ]
    },
    {
      "cell_type": "code",
      "execution_count": null,
      "metadata": {
        "colab": {
          "base_uri": "https://localhost:8080/",
          "height": 297
        },
        "id": "Yz-3BMXKcZdP",
        "outputId": "2d7f8cd3-1127-49de-ec4f-64eba0f0466c"
      },
      "outputs": [
        {
          "ename": "TypeError",
          "evalue": "ignored",
          "output_type": "error",
          "traceback": [
            "\u001b[0;31m---------------------------------------------------------------------------\u001b[0m",
            "\u001b[0;31mTypeError\u001b[0m                                 Traceback (most recent call last)",
            "\u001b[0;32m<ipython-input-89-c485a49d36f3>\u001b[0m in \u001b[0;36m<cell line: 1>\u001b[0;34m()\u001b[0m\n\u001b[0;32m----> 1\u001b[0;31m \u001b[0mmb_simulation_one_time\u001b[0m\u001b[0;34m(\u001b[0m\u001b[0;36m42\u001b[0m\u001b[0;34m)\u001b[0m\u001b[0;34m\u001b[0m\u001b[0;34m\u001b[0m\u001b[0m\n\u001b[0m",
            "\u001b[0;32m<ipython-input-83-15701cefdd79>\u001b[0m in \u001b[0;36mmb_simulation_one_time\u001b[0;34m(seed)\u001b[0m\n\u001b[1;32m      3\u001b[0m     \u001b[0mnp\u001b[0m\u001b[0;34m.\u001b[0m\u001b[0mrandom\u001b[0m\u001b[0;34m.\u001b[0m\u001b[0mseed\u001b[0m\u001b[0;34m(\u001b[0m\u001b[0mseed\u001b[0m\u001b[0;34m)\u001b[0m\u001b[0;34m\u001b[0m\u001b[0;34m\u001b[0m\u001b[0m\n\u001b[1;32m      4\u001b[0m   \u001b[0mdoors\u001b[0m \u001b[0;34m=\u001b[0m \u001b[0mnp\u001b[0m\u001b[0;34m.\u001b[0m\u001b[0mrandom\u001b[0m\u001b[0;34m.\u001b[0m\u001b[0mpermutation\u001b[0m\u001b[0;34m(\u001b[0m\u001b[0mnp\u001b[0m\u001b[0;34m.\u001b[0m\u001b[0marray\u001b[0m\u001b[0;34m(\u001b[0m\u001b[0;34m[\u001b[0m\u001b[0;34m'goat'\u001b[0m\u001b[0;34m,\u001b[0m\u001b[0;34m'junk'\u001b[0m\u001b[0;34m,\u001b[0m \u001b[0;34m'car'\u001b[0m\u001b[0;34m]\u001b[0m\u001b[0;34m)\u001b[0m\u001b[0;34m)\u001b[0m\u001b[0;34m\u001b[0m\u001b[0;34m\u001b[0m\u001b[0m\n\u001b[0;32m----> 5\u001b[0;31m   \u001b[0mcontestant_choice\u001b[0m \u001b[0;34m=\u001b[0m \u001b[0mcontestant_choices\u001b[0m\u001b[0;34m(\u001b[0m\u001b[0mdoors\u001b[0m\u001b[0;34m)\u001b[0m\u001b[0;34m\u001b[0m\u001b[0;34m\u001b[0m\u001b[0m\n\u001b[0m\u001b[1;32m      6\u001b[0m   \u001b[0mrevealed_door\u001b[0m \u001b[0;34m=\u001b[0m \u001b[0mmb_reveals\u001b[0m\u001b[0;34m(\u001b[0m\u001b[0mdoors\u001b[0m\u001b[0;34m,\u001b[0m \u001b[0mcontestant_choice\u001b[0m\u001b[0;34m)\u001b[0m\u001b[0;34m\u001b[0m\u001b[0;34m\u001b[0m\u001b[0m\n\u001b[1;32m      7\u001b[0m   last_door = [door for door in doors if door not in [contestant_choice,\n",
            "\u001b[0;31mTypeError\u001b[0m: 'numpy.str_' object is not callable"
          ]
        }
      ],
      "source": [
        "mb_simulation_one_time(42)"
      ]
    },
    {
      "cell_type": "code",
      "execution_count": null,
      "metadata": {
        "id": "-As6TeIUcZaq"
      },
      "outputs": [],
      "source": []
    },
    {
      "cell_type": "code",
      "execution_count": null,
      "metadata": {
        "id": "MpeBp2DlcZXy"
      },
      "outputs": [],
      "source": []
    },
    {
      "cell_type": "code",
      "execution_count": null,
      "metadata": {
        "id": "MaIgZqG3cZU9"
      },
      "outputs": [],
      "source": []
    },
    {
      "cell_type": "code",
      "execution_count": null,
      "metadata": {
        "id": "t54it8xocZSY"
      },
      "outputs": [],
      "source": []
    },
    {
      "cell_type": "code",
      "execution_count": null,
      "metadata": {
        "id": "tZ6vUySjcZPi"
      },
      "outputs": [],
      "source": []
    },
    {
      "cell_type": "code",
      "execution_count": null,
      "metadata": {
        "id": "9LnF_XI3cZM7"
      },
      "outputs": [],
      "source": []
    }
  ],
  "metadata": {
    "colab": {
      "provenance": [],
      "authorship_tag": "ABX9TyPF+9MTQDpZIFS1iQzaz3Be",
      "include_colab_link": true
    },
    "kernelspec": {
      "display_name": "Python 3",
      "name": "python3"
    },
    "language_info": {
      "name": "python"
    }
  },
  "nbformat": 4,
  "nbformat_minor": 0
}