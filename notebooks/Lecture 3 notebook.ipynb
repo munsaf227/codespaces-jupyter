{
 "cells": [
  {
   "cell_type": "code",
   "execution_count": 2,
   "metadata": {},
   "outputs": [
    {
     "name": "stdout",
     "output_type": "stream",
     "text": [
      "x is 0, 1, or 2\n"
     ]
    }
   ],
   "source": [
    "x=0\n",
    "\n",
    "if x > 2:\n",
    "    print(\"x is bigger than 2\")\n",
    "elif x < 0:\n",
    "    print(\"x is negative\")\n",
    "else:\n",
    "    print(\"x is 0, 1, or 2\")"
   ]
  },
  {
   "cell_type": "code",
   "execution_count": 12,
   "metadata": {},
   "outputs": [
    {
     "ename": "NameError",
     "evalue": "name 'evens' is not defined",
     "output_type": "error",
     "traceback": [
      "\u001b[0;31m---------------------------------------------------------------------------\u001b[0m",
      "\u001b[0;31mNameError\u001b[0m                                 Traceback (most recent call last)",
      "Cell \u001b[0;32mIn[12], line 8\u001b[0m\n\u001b[1;32m      6\u001b[0m \u001b[39melse\u001b[39;00m:\n\u001b[1;32m      7\u001b[0m     \u001b[39mprint\u001b[39m\n\u001b[0;32m----> 8\u001b[0m     evens \u001b[39m+\u001b[39m \u001b[39m1\u001b[39m\n\u001b[1;32m      9\u001b[0m \u001b[39mprint\u001b[39m(\u001b[39m\"\u001b[39m\u001b[39mvalue is\u001b[39m\u001b[39m\"\u001b[39m, value)\n\u001b[1;32m     10\u001b[0m \u001b[39mprint\u001b[39m(\u001b[39m\"\u001b[39m\u001b[39modds\u001b[39m\u001b[39m\"\u001b[39m, odds)\n",
      "\u001b[0;31mNameError\u001b[0m: name 'evens' is not defined"
     ]
    }
   ],
   "source": [
    "import random\n",
    "value= random.randint(1000,9999)\n",
    "if value % 2==1:\n",
    "    print(\"value is odd\")\n",
    "    odds= odds + 1 \n",
    "else:\n",
    "    print\n",
    "    evens + 1\n",
    "print(\"value is\", value)\n",
    "print(\"odds\", odds)\n",
    "print(\"evens\", evens)"
   ]
  }
 ],
 "metadata": {
  "kernelspec": {
   "display_name": "Python 3 (ipykernel)",
   "language": "python",
   "name": "python3"
  },
  "language_info": {
   "codemirror_mode": {
    "name": "ipython",
    "version": 3
   },
   "file_extension": ".py",
   "mimetype": "text/x-python",
   "name": "python",
   "nbconvert_exporter": "python",
   "pygments_lexer": "ipython3",
   "version": "3.10.8"
  }
 },
 "nbformat": 4,
 "nbformat_minor": 4
}
